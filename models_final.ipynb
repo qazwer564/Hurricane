{
  "nbformat": 4,
  "nbformat_minor": 0,
  "metadata": {
    "colab": {
      "name": "models_final.ipynb",
      "provenance": [],
      "collapsed_sections": [],
      "toc_visible": true,
      "machine_shape": "hm"
    },
    "kernelspec": {
      "name": "python3",
      "display_name": "Python 3"
    },
    "accelerator": "GPU"
  },
  "cells": [
    {
      "cell_type": "code",
      "metadata": {
        "id": "VuupyiLBt4j7",
        "colab_type": "code",
        "outputId": "9f7c5887-b1a2-4b1d-f3db-7e575e096fbc",
        "colab": {
          "base_uri": "https://localhost:8080/",
          "height": 121
        }
      },
      "source": [
        "from google.colab import drive\n",
        "drive.mount('/content/drive')"
      ],
      "execution_count": 1,
      "outputs": [
        {
          "output_type": "stream",
          "text": [
            "Go to this URL in a browser: https://accounts.google.com/o/oauth2/auth?client_id=947318989803-6bn6qk8qdgf4n4g3pfee6491hc0brc4i.apps.googleusercontent.com&redirect_uri=urn%3aietf%3awg%3aoauth%3a2.0%3aoob&response_type=code&scope=email%20https%3a%2f%2fwww.googleapis.com%2fauth%2fdocs.test%20https%3a%2f%2fwww.googleapis.com%2fauth%2fdrive%20https%3a%2f%2fwww.googleapis.com%2fauth%2fdrive.photos.readonly%20https%3a%2f%2fwww.googleapis.com%2fauth%2fpeopleapi.readonly\n",
            "\n",
            "Enter your authorization code:\n",
            "··········\n",
            "Mounted at /content/drive\n"
          ],
          "name": "stdout"
        }
      ]
    },
    {
      "cell_type": "code",
      "metadata": {
        "id": "Autgu8gIundI",
        "colab_type": "code",
        "outputId": "e34ec723-cd0a-42cb-e0a9-e9c46af89e19",
        "colab": {
          "base_uri": "https://localhost:8080/",
          "height": 187
        }
      },
      "source": [
        "!pip install netcdf4"
      ],
      "execution_count": 0,
      "outputs": [
        {
          "output_type": "stream",
          "text": [
            "Collecting netcdf4\n",
            "\u001b[?25l  Downloading https://files.pythonhosted.org/packages/35/4f/d49fe0c65dea4d2ebfdc602d3e3d2a45a172255c151f4497c43f6d94a5f6/netCDF4-1.5.3-cp36-cp36m-manylinux1_x86_64.whl (4.1MB)\n",
            "\u001b[K     |████████████████████████████████| 4.1MB 2.9MB/s \n",
            "\u001b[?25hCollecting cftime\n",
            "\u001b[?25l  Downloading https://files.pythonhosted.org/packages/d7/20/15fd894e64f14d6b8afa1cd6dd833c1ea85d1cedb46fdba2d9f8fbc3a924/cftime-1.0.4.2-cp36-cp36m-manylinux1_x86_64.whl (308kB)\n",
            "\u001b[K     |████████████████████████████████| 317kB 48.2MB/s \n",
            "\u001b[?25hRequirement already satisfied: numpy>=1.7 in /usr/local/lib/python3.6/dist-packages (from netcdf4) (1.17.4)\n",
            "Installing collected packages: cftime, netcdf4\n",
            "Successfully installed cftime-1.0.4.2 netcdf4-1.5.3\n"
          ],
          "name": "stdout"
        }
      ]
    },
    {
      "cell_type": "code",
      "metadata": {
        "id": "Q3g74EfMt_1O",
        "colab_type": "code",
        "colab": {}
      },
      "source": [
        "# Import every package\n",
        "#from netCDF4 import Dataset\n",
        "import numpy as np\n",
        "import xarray as xr\n",
        "import pandas as pd\n",
        "import matplotlib.pyplot as plt\n",
        "plt.style.use('ggplot')\n",
        "import seaborn as sns\n",
        "from sklearn import metrics\n",
        "from sklearn.svm import SVC\n",
        "from scipy.stats import randint\n",
        "from sklearn.pipeline import Pipeline\n",
        "from sklearn.linear_model import LinearRegression, Ridge, Lasso, ElasticNet\n",
        "from sklearn.neighbors import KNeighborsRegressor, KNeighborsClassifier\n",
        "from sklearn.tree import DecisionTreeClassifier\n",
        "from sklearn.neural_network import MLPClassifier\n",
        "from sklearn.preprocessing import StandardScaler\n",
        "from sklearn.linear_model import LogisticRegression\n",
        "from sklearn.ensemble import RandomForestClassifier\n",
        "from sklearn.metrics import classification_report, confusion_matrix\n",
        "from sklearn.model_selection import cross_val_score, train_test_split, RandomizedSearchCV, GridSearchCV\n",
        "from sklearn.metrics import roc_auc_score\n",
        "from sklearn.metrics import roc_curve\n",
        "import statsmodels.api as sm\n"
      ],
      "execution_count": 0,
      "outputs": []
    },
    {
      "cell_type": "code",
      "metadata": {
        "id": "7QSxzxoK-tt3",
        "colab_type": "code",
        "colab": {}
      },
      "source": [
        "def POD(confmat):\n",
        "  return confmat[0,0]/(confmat[0,0]+confmat[1,0])\n",
        "\n",
        "def FAR(confmat):\n",
        "  return confmat[0,1]/(confmat[0,0]+confmat[0,1])\n",
        "\n",
        "def PSS(confmat):\n",
        "  return ((confmat[0,0]*confmat[1,1])-(confmat[0,1]*confmat[1,0]))/((confmat[0,0]+confmat[1,0])*(confmat[0,1]+confmat[1,1]))"
      ],
      "execution_count": 0,
      "outputs": []
    },
    {
      "cell_type": "code",
      "metadata": {
        "id": "sKXYqTL3IEMA",
        "colab_type": "code",
        "colab": {}
      },
      "source": [
        "shipdf = pd.read_csv('/content/drive/My Drive/training_dataset/prcp_all.csv')"
      ],
      "execution_count": 0,
      "outputs": []
    },
    {
      "cell_type": "code",
      "metadata": {
        "id": "_Pz8E_0D2eby",
        "colab_type": "code",
        "outputId": "a12ff224-91bd-40b9-a4d1-901dcea7fff0",
        "colab": {
          "base_uri": "https://localhost:8080/",
          "height": 195
        }
      },
      "source": [
        "shipdf.head()"
      ],
      "execution_count": 0,
      "outputs": [
        {
          "output_type": "execute_result",
          "data": {
            "text/html": [
              "<div>\n",
              "<style scoped>\n",
              "    .dataframe tbody tr th:only-of-type {\n",
              "        vertical-align: middle;\n",
              "    }\n",
              "\n",
              "    .dataframe tbody tr th {\n",
              "        vertical-align: top;\n",
              "    }\n",
              "\n",
              "    .dataframe thead th {\n",
              "        text-align: right;\n",
              "    }\n",
              "</style>\n",
              "<table border=\"1\" class=\"dataframe\">\n",
              "  <thead>\n",
              "    <tr style=\"text-align: right;\">\n",
              "      <th></th>\n",
              "      <th>key_0</th>\n",
              "      <th>id_x</th>\n",
              "      <th>clat_x</th>\n",
              "      <th>clon_x</th>\n",
              "      <th>RHOUR</th>\n",
              "      <th>vmax</th>\n",
              "      <th>prcp</th>\n",
              "      <th>dvmax_y</th>\n",
              "      <th>MSLP</th>\n",
              "      <th>PER</th>\n",
              "      <th>SHRD</th>\n",
              "      <th>NOHC</th>\n",
              "      <th>SHRG</th>\n",
              "      <th>TPWC</th>\n",
              "      <th>TADV</th>\n",
              "      <th>PSLV</th>\n",
              "    </tr>\n",
              "  </thead>\n",
              "  <tbody>\n",
              "    <tr>\n",
              "      <th>0</th>\n",
              "      <td>1998-07-28 00:00:00</td>\n",
              "      <td>b'bal011998'</td>\n",
              "      <td>11.30</td>\n",
              "      <td>-25.400000</td>\n",
              "      <td>-12.0</td>\n",
              "      <td>25.0</td>\n",
              "      <td>0.338266</td>\n",
              "      <td>10.0</td>\n",
              "      <td>1009.0</td>\n",
              "      <td>0.0</td>\n",
              "      <td>8.6</td>\n",
              "      <td>21.0</td>\n",
              "      <td>20.5</td>\n",
              "      <td>56.9</td>\n",
              "      <td>-6.0</td>\n",
              "      <td>494.0</td>\n",
              "    </tr>\n",
              "    <tr>\n",
              "      <th>1</th>\n",
              "      <td>1998-07-28 00:00:00</td>\n",
              "      <td>b'bal011998'</td>\n",
              "      <td>11.50</td>\n",
              "      <td>-26.299999</td>\n",
              "      <td>-9.0</td>\n",
              "      <td>25.0</td>\n",
              "      <td>0.411434</td>\n",
              "      <td>10.0</td>\n",
              "      <td>1009.0</td>\n",
              "      <td>0.0</td>\n",
              "      <td>8.6</td>\n",
              "      <td>21.0</td>\n",
              "      <td>20.5</td>\n",
              "      <td>56.9</td>\n",
              "      <td>-6.0</td>\n",
              "      <td>494.0</td>\n",
              "    </tr>\n",
              "    <tr>\n",
              "      <th>2</th>\n",
              "      <td>1998-07-28 00:00:00</td>\n",
              "      <td>b'bal011998'</td>\n",
              "      <td>11.70</td>\n",
              "      <td>-27.200001</td>\n",
              "      <td>-6.0</td>\n",
              "      <td>25.0</td>\n",
              "      <td>0.353618</td>\n",
              "      <td>10.0</td>\n",
              "      <td>1009.0</td>\n",
              "      <td>0.0</td>\n",
              "      <td>8.6</td>\n",
              "      <td>21.0</td>\n",
              "      <td>20.5</td>\n",
              "      <td>56.9</td>\n",
              "      <td>-6.0</td>\n",
              "      <td>494.0</td>\n",
              "    </tr>\n",
              "    <tr>\n",
              "      <th>3</th>\n",
              "      <td>1998-07-28 00:00:00</td>\n",
              "      <td>b'bal011998'</td>\n",
              "      <td>11.95</td>\n",
              "      <td>-28.200001</td>\n",
              "      <td>-3.0</td>\n",
              "      <td>25.0</td>\n",
              "      <td>0.351601</td>\n",
              "      <td>10.0</td>\n",
              "      <td>1009.0</td>\n",
              "      <td>0.0</td>\n",
              "      <td>8.6</td>\n",
              "      <td>21.0</td>\n",
              "      <td>20.5</td>\n",
              "      <td>56.9</td>\n",
              "      <td>-6.0</td>\n",
              "      <td>494.0</td>\n",
              "    </tr>\n",
              "    <tr>\n",
              "      <th>4</th>\n",
              "      <td>1998-07-28 00:00:00</td>\n",
              "      <td>b'bal011998'</td>\n",
              "      <td>12.20</td>\n",
              "      <td>-29.200001</td>\n",
              "      <td>0.0</td>\n",
              "      <td>25.0</td>\n",
              "      <td>0.395761</td>\n",
              "      <td>10.0</td>\n",
              "      <td>1009.0</td>\n",
              "      <td>0.0</td>\n",
              "      <td>8.6</td>\n",
              "      <td>21.0</td>\n",
              "      <td>20.5</td>\n",
              "      <td>56.9</td>\n",
              "      <td>-6.0</td>\n",
              "      <td>494.0</td>\n",
              "    </tr>\n",
              "  </tbody>\n",
              "</table>\n",
              "</div>"
            ],
            "text/plain": [
              "                 key_0          id_x  clat_x  ...  TPWC  TADV   PSLV\n",
              "0  1998-07-28 00:00:00  b'bal011998'   11.30  ...  56.9  -6.0  494.0\n",
              "1  1998-07-28 00:00:00  b'bal011998'   11.50  ...  56.9  -6.0  494.0\n",
              "2  1998-07-28 00:00:00  b'bal011998'   11.70  ...  56.9  -6.0  494.0\n",
              "3  1998-07-28 00:00:00  b'bal011998'   11.95  ...  56.9  -6.0  494.0\n",
              "4  1998-07-28 00:00:00  b'bal011998'   12.20  ...  56.9  -6.0  494.0\n",
              "\n",
              "[5 rows x 16 columns]"
            ]
          },
          "metadata": {
            "tags": []
          },
          "execution_count": 6
        }
      ]
    },
    {
      "cell_type": "code",
      "metadata": {
        "id": "xVQp8V9E3Rms",
        "colab_type": "code",
        "outputId": "7a3dd4aa-d26d-42bf-df2f-43f9f0982ccb",
        "colab": {
          "base_uri": "https://localhost:8080/",
          "height": 386
        }
      },
      "source": [
        "shipdf.info()"
      ],
      "execution_count": 0,
      "outputs": [
        {
          "output_type": "stream",
          "text": [
            "<class 'pandas.core.frame.DataFrame'>\n",
            "RangeIndex: 27989 entries, 0 to 27988\n",
            "Data columns (total 16 columns):\n",
            "key_0      27989 non-null object\n",
            "id_x       27989 non-null object\n",
            "clat_x     27989 non-null float64\n",
            "clon_x     27989 non-null float64\n",
            "RHOUR      27989 non-null float64\n",
            "vmax       27989 non-null float64\n",
            "prcp       27989 non-null float64\n",
            "dvmax_y    27989 non-null float64\n",
            "MSLP       27989 non-null float64\n",
            "PER        27989 non-null float64\n",
            "SHRD       27989 non-null float64\n",
            "NOHC       27989 non-null float64\n",
            "SHRG       27989 non-null float64\n",
            "TPWC       27989 non-null float64\n",
            "TADV       27989 non-null float64\n",
            "PSLV       27989 non-null float64\n",
            "dtypes: float64(14), object(2)\n",
            "memory usage: 3.4+ MB\n"
          ],
          "name": "stdout"
        }
      ]
    },
    {
      "cell_type": "code",
      "metadata": {
        "id": "hXncVZEIvPpD",
        "colab_type": "code",
        "colab": {}
      },
      "source": [
        "# Turn dvmax to RI\n",
        "def ri(x):\n",
        "    if x>=25:\n",
        "        return 1\n",
        "    else:\n",
        "        return 0\n",
        "shipdf['RI']=shipdf['dvmax_y'].apply(ri)"
      ],
      "execution_count": 0,
      "outputs": []
    },
    {
      "cell_type": "code",
      "metadata": {
        "id": "wR6PmhRq3RMD",
        "colab_type": "code",
        "outputId": "8dfc0e0b-0502-4602-a3fa-7e9f3d3b1655",
        "colab": {
          "base_uri": "https://localhost:8080/",
          "height": 70
        }
      },
      "source": [
        "shipdf.columns"
      ],
      "execution_count": 0,
      "outputs": [
        {
          "output_type": "execute_result",
          "data": {
            "text/plain": [
              "Index(['key_0', 'id_x', 'clat_x', 'clon_x', 'RHOUR', 'vmax', 'prcp', 'dvmax_y',\n",
              "       'MSLP', 'PER', 'SHRD', 'NOHC', 'SHRG', 'TPWC', 'TADV', 'PSLV', 'RI'],\n",
              "      dtype='object')"
            ]
          },
          "metadata": {
            "tags": []
          },
          "execution_count": 9
        }
      ]
    },
    {
      "cell_type": "code",
      "metadata": {
        "id": "_AKp_WaWEkrU",
        "colab_type": "code",
        "colab": {}
      },
      "source": [
        "shipdf.corr()['dvmax_y'].sort_values(ascending=True)"
      ],
      "execution_count": 0,
      "outputs": []
    },
    {
      "cell_type": "code",
      "metadata": {
        "id": "_gaMJBCUwg0Z",
        "colab_type": "code",
        "outputId": "218332bd-c14a-4dfe-d7f6-fa3850f4b7bb",
        "colab": {
          "base_uri": "https://localhost:8080/",
          "height": 300
        }
      },
      "source": [
        "# imbalance data\n",
        "sns.countplot('RI',data=shipdf)"
      ],
      "execution_count": 0,
      "outputs": [
        {
          "output_type": "execute_result",
          "data": {
            "text/plain": [
              "<matplotlib.axes._subplots.AxesSubplot at 0x7f1a65e07ac8>"
            ]
          },
          "metadata": {
            "tags": []
          },
          "execution_count": 5
        },
        {
          "output_type": "display_data",
          "data": {
            "image/png": "[encoded data removed]",
            "text/plain": [
              "<Figure size 432x288 with 1 Axes>"
            ]
          },
          "metadata": {
            "tags": []
          }
        }
      ]
    },
    {
      "cell_type": "code",
      "metadata": {
        "id": "t6LZbErM9WoC",
        "colab_type": "code",
        "outputId": "6cce798e-63dd-42dd-ecc5-feb508949723",
        "colab": {
          "base_uri": "https://localhost:8080/",
          "height": 34
        }
      },
      "source": [
        "y=shipdf['RI']\n",
        "X=shipdf.drop(['key_0','RI','id_x','dvmax_y'],axis=1)\n",
        "\n",
        "from imblearn.over_sampling import RandomOverSampler\n",
        "ros = RandomOverSampler()\n",
        "X_ros, y_ros = ros.fit_sample(X, y)\n",
        "\n",
        "print(X_ros.shape[0] - X.shape[0], 'new random picked points')\n",
        "\n",
        "# X=pd.DataFrame(X_ros, columns=['clat_x', 'clon_x', 'RHOUR', 'vmax', 'prcp',\n",
        "#        'MSLP', 'PER', 'SHRD', 'NOHC', 'SHRG', 'TPWC', 'TADV', 'PSLV'])\n",
        "\n",
        "# y=pd.DataFrame(y_ros,columns=['RI'])"
      ],
      "execution_count": 0,
      "outputs": [
        {
          "output_type": "stream",
          "text": [
            "21107 new random picked points\n"
          ],
          "name": "stdout"
        }
      ]
    },
    {
      "cell_type": "code",
      "metadata": {
        "id": "0KGLuBzzJ89r",
        "colab_type": "code",
        "colab": {}
      },
      "source": [
        "from imblearn.over_sampling import SMOTE\n",
        "\n",
        "smote = SMOTE(ratio='minority')\n",
        "X_sm, y_sm = smote.fit_sample(X, y)"
      ],
      "execution_count": 0,
      "outputs": []
    },
    {
      "cell_type": "code",
      "metadata": {
        "id": "UrMiwOOwGpr0",
        "colab_type": "code",
        "colab": {}
      },
      "source": [
        "X_train, X_test, y_train, y_test = train_test_split(X_sm, y_sm, test_size=0.3, random_state=21)\n",
        "\n",
        "logreg = LogisticRegression(C=2.64,penalty='l1')\n",
        "logreg.fit(X_train, y_train)"
      ],
      "execution_count": 0,
      "outputs": []
    },
    {
      "cell_type": "code",
      "metadata": {
        "id": "w3p4PMdMMgtU",
        "colab_type": "code",
        "colab": {}
      },
      "source": [
        "# Create the hyperparameter grid\n",
        "c_space = np.logspace(0, 4, 20)\n",
        "param_grid = {'C': c_space, 'penalty': ['l1', 'l2']}\n",
        "\n",
        "log_grs = GridSearchCV(logreg,param_grid,cv=5)\n",
        "# Fit grid search\n",
        "best_model = log_grs.fit(X_train, y_train)"
      ],
      "execution_count": 0,
      "outputs": []
    },
    {
      "cell_type": "code",
      "metadata": {
        "id": "M0UJdyuoMrZS",
        "colab_type": "code",
        "colab": {}
      },
      "source": [
        "# View best hyperparameters\n",
        "print(\"Tuned Logistic Regression Parameter: {}\".format(log_grs.best_params_))\n",
        "print(\"Tuned Logistic Regression Accuracy: {}\".format(log_grs.best_score_))"
      ],
      "execution_count": 0,
      "outputs": []
    },
    {
      "cell_type": "code",
      "metadata": {
        "id": "8NFS4bGE5Hll",
        "colab_type": "code",
        "outputId": "8e9881f6-c665-4f68-8d4f-0bc369295ecd",
        "colab": {
          "base_uri": "https://localhost:8080/",
          "height": 34
        }
      },
      "source": [
        "y_pred = logreg.predict(X_test)\n",
        "print('Accuracy of logistic regression classifier on test set: {:.2f}'.format(logreg.score(X_test, y_test)))"
      ],
      "execution_count": 0,
      "outputs": [
        {
          "output_type": "stream",
          "text": [
            "Accuracy of logistic regression classifier on test set: 0.75\n"
          ],
          "name": "stdout"
        }
      ]
    },
    {
      "cell_type": "code",
      "metadata": {
        "id": "TfUCDSOD5QWA",
        "colab_type": "code",
        "outputId": "095d6fe3-704d-4d93-e43e-fcb6509ab028",
        "colab": {
          "base_uri": "https://localhost:8080/",
          "height": 52
        }
      },
      "source": [
        "confusion_matrix_prcp = confusion_matrix(y_test, y_pred)\n",
        "confusion_matrix_prcp"
      ],
      "execution_count": 0,
      "outputs": [
        {
          "output_type": "execute_result",
          "data": {
            "text/plain": [
              "array([[5125, 2210],\n",
              "       [1438, 5956]])"
            ]
          },
          "metadata": {
            "tags": []
          },
          "execution_count": 34
        }
      ]
    },
    {
      "cell_type": "code",
      "metadata": {
        "id": "sY4Fu5y15tUT",
        "colab_type": "code",
        "outputId": "3ee46830-f8a1-4df7-da9f-6216161d9f9b",
        "colab": {
          "base_uri": "https://localhost:8080/",
          "height": 175
        }
      },
      "source": [
        "print(classification_report(y_test, y_pred))"
      ],
      "execution_count": 0,
      "outputs": [
        {
          "output_type": "stream",
          "text": [
            "              precision    recall  f1-score   support\n",
            "\n",
            "           0       0.79      0.70      0.74      7320\n",
            "           1       0.73      0.81      0.77      7409\n",
            "\n",
            "    accuracy                           0.76     14729\n",
            "   macro avg       0.76      0.76      0.76     14729\n",
            "weighted avg       0.76      0.76      0.76     14729\n",
            "\n"
          ],
          "name": "stdout"
        }
      ]
    },
    {
      "cell_type": "code",
      "metadata": {
        "id": "OGmR9HYp8i6V",
        "colab_type": "code",
        "outputId": "b44613d3-f348-4ad5-fa16-fba57488e27b",
        "colab": {
          "base_uri": "https://localhost:8080/",
          "height": 299
        }
      },
      "source": [
        "logit_roc_auc = roc_auc_score(y_test, logreg.predict(X_test))\n",
        "fpr, tpr, thresholds = roc_curve(y_test, logreg.predict_proba(X_test)[:,1])\n",
        "plt.figure()\n",
        "plt.plot(fpr, tpr, label='Logistic Regression (area = %0.2f)' % logit_roc_auc,c='blue')\n",
        "plt.plot([0, 1], [0, 1],'r--')\n",
        "plt.xlim([0.0, 1.0])\n",
        "plt.ylim([0.0, 1.05])\n",
        "plt.xlabel('False Positive Rate')\n",
        "plt.ylabel('True Positive Rate')\n",
        "plt.title('Receiver operating characteristic')\n",
        "plt.legend(loc=\"lower right\")\n",
        "plt.savefig('Log_ROC')\n",
        "plt.show()"
      ],
      "execution_count": 0,
      "outputs": [
        {
          "output_type": "display_data",
          "data": {
            "image/png": "[encoded data removed]",
            "text/plain": [
              "<Figure size 432x288 with 1 Axes>"
            ]
          },
          "metadata": {
            "tags": []
          }
        }
      ]
    },
    {
      "cell_type": "code",
      "metadata": {
        "id": "vPp1HD9frjnP",
        "colab_type": "code",
        "outputId": "de7040eb-2fb3-4c07-be3e-689e65e0b41e",
        "colab": {
          "base_uri": "https://localhost:8080/",
          "height": 70
        }
      },
      "source": [
        "X_train, X_test, y_train, y_test = train_test_split(X, y, test_size=0.3, random_state=2)\n",
        "clf = DecisionTreeClassifier()\n",
        "clf.fit(X_train, y_train)\n",
        "y_pred1 = clf.predict(X_test)\n",
        "print(\"Accuracy:\",metrics.accuracy_score(y_test, y_pred1))\n",
        "# Accuracy with all variables: 0.8302658486707567\n",
        "cm = confusion_matrix(y_test, y_pred1)\n",
        "print(cm)"
      ],
      "execution_count": 0,
      "outputs": [
        {
          "output_type": "stream",
          "text": [
            "Accuracy: 0.9945218530427533\n",
            "[[7401   24]\n",
            " [  22  950]]\n"
          ],
          "name": "stdout"
        }
      ]
    },
    {
      "cell_type": "code",
      "metadata": {
        "id": "3tZHAD2Fr27x",
        "colab_type": "code",
        "outputId": "fea6f34a-afb0-448b-a534-ffd114765f2c",
        "colab": {
          "base_uri": "https://localhost:8080/",
          "height": 70
        }
      },
      "source": [
        "X_train, X_test, y_train, y_test = train_test_split(X, y, test_size=0.3, random_state=2)\n",
        "clf2 = DecisionTreeClassifier(criterion=\"entropy\", max_depth=6)\n",
        "clf2.fit(X_train, y_train)\n",
        "y_pred2 = clf2.predict(X_test)\n",
        "print(\"Accuracy:\",metrics.accuracy_score(y_test, y_pred2))\n",
        "# Accuracy with all variables: 0.8568507157464212\n",
        "cm2 = confusion_matrix(y_test, y_pred2)\n",
        "print(cm2)"
      ],
      "execution_count": 0,
      "outputs": [
        {
          "output_type": "stream",
          "text": [
            "Accuracy: 0.8880552578301775\n",
            "[[7412   13]\n",
            " [ 927   45]]\n"
          ],
          "name": "stdout"
        }
      ]
    },
    {
      "cell_type": "code",
      "metadata": {
        "id": "RHpaVJ2ytaNx",
        "colab_type": "code",
        "outputId": "b4565ad9-a03e-40a1-debd-19f1518a99b1",
        "colab": {
          "base_uri": "https://localhost:8080/",
          "height": 51
        }
      },
      "source": [
        "param_dist = {\"max_depth\": [3, None],\n",
        "              \"max_features\": randint(1, 9),\n",
        "              \"min_samples_leaf\": randint(1, 9),\n",
        "              \"criterion\": [\"gini\", \"entropy\"]}\n",
        "tree_cv = RandomizedSearchCV(clf, param_dist, cv=5)\n",
        "tree_cv.fit(X_train,y_train)\n",
        "print(\"Tuned Decision Tree Parameters: {}\".format(tree_cv.best_params_))\n",
        "print(\"Best score is {}\".format(tree_cv.best_score_))"
      ],
      "execution_count": 0,
      "outputs": [
        {
          "output_type": "stream",
          "text": [
            "Tuned Decision Tree Parameters: {'criterion': 'entropy', 'max_depth': 3, 'max_features': 2, 'min_samples_leaf': 3}\n",
            "Best score is 0.8783841856467555\n"
          ],
          "name": "stdout"
        }
      ]
    },
    {
      "cell_type": "code",
      "metadata": {
        "id": "9_AIhoGE12IP",
        "colab_type": "code",
        "outputId": "dd7efe4c-351c-40b4-ded5-338b99cbe514",
        "colab": {
          "base_uri": "https://localhost:8080/",
          "height": 34
        }
      },
      "source": [
        "sc = StandardScaler()\n",
        "X_train2 = sc.fit_transform(X_train)\n",
        "X_test2 = sc.transform(X_test)\n",
        "clf3 = DecisionTreeClassifier(criterion = 'gini', max_depth = None, max_features=2, min_samples_leaf=8)\n",
        "clf3.fit(X_train2, y_train)\n",
        "y_pred3 = clf3.predict(X_test2)\n",
        "print(\"Accuracy:\",metrics.accuracy_score(y_test, y_pred3))"
      ],
      "execution_count": 0,
      "outputs": [
        {
          "output_type": "stream",
          "text": [
            "Accuracy: 0.9404549243777539\n"
          ],
          "name": "stdout"
        }
      ]
    },
    {
      "cell_type": "code",
      "metadata": {
        "id": "NjHNujxKBlW8",
        "colab_type": "code",
        "colab": {}
      },
      "source": [
        "# Setup the pipeline\n",
        "steps = [('scaler', StandardScaler()),\n",
        "         ('SVM', SVC())]\n",
        "\n",
        "pipeline = Pipeline(steps)\n",
        "\n",
        "# Specify the hyperparameter space\n",
        "parameters = {'SVM__C':[1, 10, 100],\n",
        "              'SVM__gamma':[0.1, 0.01]}\n",
        "\n",
        "# Create train and test sets\n",
        "X_train, X_test, y_train, y_test = train_test_split(X, y, test_size=0.3, random_state=2)\n",
        "\n",
        "# Instantiate the GridSearchCV object: cv\n",
        "cv = GridSearchCV(pipeline, param_grid=parameters)\n",
        "\n",
        "# Fit to the training set\n",
        "cv.fit(X_train,y_train)\n",
        "\n",
        "# Predict the labels of the test set: y_pred\n",
        "y_pred4 = cv.predict(X_test)\n",
        "\n",
        "# Compute and print metrics\n",
        "print(\"Accuracy: {}\".format(cv.score(X_test, y_test)))\n",
        "print(classification_report(y_test, y_pred4))\n",
        "print(\"Tuned Model Parameters: {}\".format(cv.best_params_))"
      ],
      "execution_count": 0,
      "outputs": []
    },
    {
      "cell_type": "code",
      "metadata": {
        "id": "I7stXqgoD91H",
        "colab_type": "code",
        "outputId": "530430da-36c2-44d9-e62b-9615f1d5bc91",
        "colab": {
          "base_uri": "https://localhost:8080/",
          "height": 70
        }
      },
      "source": [
        "# SVC model based on best params from gridsearch\n",
        "svc = SVC(C=100, gamma=0.01)\n",
        "svc.fit(X_train, y_train)\n",
        "y_pred5 = svc.predict(X_test)\n",
        "\n",
        "# Compute and print metrics\n",
        "print(\"Accuracy: {}\".format(svc.score(X_test, y_test)))\n",
        "cm3 = confusion_matrix(y_test, y_pred2)\n",
        "cm3"
      ],
      "execution_count": 0,
      "outputs": [
        {
          "output_type": "stream",
          "text": [
            "Accuracy: 0.9965463856139097\n"
          ],
          "name": "stdout"
        },
        {
          "output_type": "execute_result",
          "data": {
            "text/plain": [
              "array([[7412,   13],\n",
              "       [ 927,   45]])"
            ]
          },
          "metadata": {
            "tags": []
          },
          "execution_count": 38
        }
      ]
    },
    {
      "cell_type": "code",
      "metadata": {
        "id": "W1YRa28pHvvs",
        "colab_type": "code",
        "outputId": "77e29a61-6a75-4a19-f45a-a74f3e9fadd8",
        "colab": {
          "base_uri": "https://localhost:8080/",
          "height": 70
        }
      },
      "source": [
        "forest = RandomForestClassifier(n_estimators=100)\n",
        "forest.fit(X_train, y_train)\n",
        "y_pred6 = forest.predict(X_test)\n",
        "print(\"Accuracy: {}\".format(forest.score(X_test, y_test)))\n",
        "cm4 = confusion_matrix(y_test,y_pred6)\n",
        "cm4"
      ],
      "execution_count": 0,
      "outputs": [
        {
          "output_type": "stream",
          "text": [
            "Accuracy: 0.9979754674288437\n"
          ],
          "name": "stdout"
        },
        {
          "output_type": "execute_result",
          "data": {
            "text/plain": [
              "array([[7425,    0],\n",
              "       [  17,  955]])"
            ]
          },
          "metadata": {
            "tags": []
          },
          "execution_count": 39
        }
      ]
    },
    {
      "cell_type": "code",
      "metadata": {
        "id": "5bSy6OPFJdbv",
        "colab_type": "code",
        "outputId": "7aedaa1b-03ed-427b-f5be-fe506007c727",
        "colab": {
          "base_uri": "https://localhost:8080/",
          "height": 70
        }
      },
      "source": [
        "forest2 = RandomForestClassifier(n_estimators=100, criterion=\"entropy\")\n",
        "forest2.fit(X_train, y_train)\n",
        "y_pred7 = forest2.predict(X_test)\n",
        "print(\"Accuracy: {}\".format(forest2.score(X_test, y_test)))\n",
        "cm5 = confusion_matrix(y_test,y_pred7)\n",
        "cm5"
      ],
      "execution_count": 0,
      "outputs": [
        {
          "output_type": "stream",
          "text": [
            "Accuracy: 0.9982136477313326\n"
          ],
          "name": "stdout"
        },
        {
          "output_type": "execute_result",
          "data": {
            "text/plain": [
              "array([[7425,    0],\n",
              "       [  15,  957]])"
            ]
          },
          "metadata": {
            "tags": []
          },
          "execution_count": 40
        }
      ]
    },
    {
      "cell_type": "code",
      "metadata": {
        "id": "RE6d5Xt8BgID",
        "colab_type": "code",
        "colab": {}
      },
      "source": [
        ""
      ],
      "execution_count": 0,
      "outputs": []
    },
    {
      "cell_type": "code",
      "metadata": {
        "id": "f9sfCxP94QLI",
        "colab_type": "code",
        "outputId": "6688b64d-5c75-4570-f078-e035e1b8a78a",
        "colab": {
          "base_uri": "https://localhost:8080/",
          "height": 439
        }
      },
      "source": [
        "print(\"POD for Logistic Model {}\".format(POD(confusion_matrix_prcp)))\n",
        "print(\"FAR for Logistic Model {}\".format(FAR(confusion_matrix_prcp)))\n",
        "print(\"PSS for Logistic Model {}\\n\".format(PSS(confusion_matrix_prcp)))\n",
        "print(\"POD for First Decision Tree Model {}\".format(POD(cm)))\n",
        "print(\"FAR for First Decision Tree Model {}\".format(FAR(cm)))\n",
        "print(\"PSS for First Decision Tree Model {}\\n\".format(PSS(cm)))\n",
        "print(\"POD for Second Decision Tree Model {}\".format(POD(cm2)))\n",
        "print(\"FAR for Second Decision Tree Model {}\".format(FAR(cm2)))\n",
        "print(\"PSS for Second Decision Tree Model {}\\n\".format(PSS(cm2)))\n",
        "print(\"POD for SVC Model {}\".format(POD(cm3)))\n",
        "print(\"FAR for SVC Model {}\".format(FAR(cm3)))\n",
        "print(\"PSS for SVC Model {}\\n\".format(PSS(cm3)))\n",
        "print(\"POD for 1st Random Forest Model {}\".format(POD(cm4)))\n",
        "print(\"FAR for 1st Random Forest Model {}\".format(FAR(cm4)))\n",
        "print(\"PSS for 1st Random Forest Model {}\\n\".format(PSS(cm4)))\n",
        "print(\"POD for 2nd Random Forest Model {}\".format(POD(cm5)))\n",
        "print(\"FAR for 2nd Random Forest Model {}\".format(FAR(cm5)))\n",
        "print(\"PSS for 2nd Random Forest Model {}\\n\".format(PSS(cm5)))"
      ],
      "execution_count": 0,
      "outputs": [
        {
          "output_type": "stream",
          "text": [
            "POD for Logistic Model 0.7808928843516685\n",
            "FAR for Logistic Model 0.3012951601908657\n",
            "PSS for Logistic Model 0.5102585468547299\n",
            "\n",
            "POD for First Decision Tree Model 0.9970362387174997\n",
            "FAR for First Decision Tree Model 0.0032323232323232323\n",
            "PSS for First Decision Tree Model 0.9723955816333107\n",
            "\n",
            "POD for Second Decision Tree Model 0.8888355917975777\n",
            "FAR for Second Decision Tree Model 0.001750841750841751\n",
            "PSS for Second Decision Tree Model 0.6646976607630949\n",
            "\n",
            "POD for SVC Model 0.8888355917975777\n",
            "FAR for SVC Model 0.001750841750841751\n",
            "PSS for SVC Model 0.6646976607630949\n",
            "\n",
            "POD for 1st Random Forest Model 0.9977156678312281\n",
            "FAR for 1st Random Forest Model 0.0\n",
            "PSS for 1st Random Forest Model 0.9977156678312281\n",
            "\n",
            "POD for 2nd Random Forest Model 0.9979838709677419\n",
            "FAR for 2nd Random Forest Model 0.0\n",
            "PSS for 2nd Random Forest Model 0.9979838709677419\n",
            "\n"
          ],
          "name": "stdout"
        }
      ]
    },
    {
      "cell_type": "code",
      "metadata": {
        "id": "sF8jn5gRBx8F",
        "colab_type": "code",
        "outputId": "c1b8360c-d405-46bc-88e8-ee35c6f62bdd",
        "colab": {
          "base_uri": "https://localhost:8080/",
          "height": 51
        }
      },
      "source": [
        "forest.feature_importances_"
      ],
      "execution_count": 0,
      "outputs": [
        {
          "output_type": "execute_result",
          "data": {
            "text/plain": [
              "array([0.12976801, 0.09079339, 0.14125207, 0.13023007, 0.14020665,\n",
              "       0.14143869, 0.0931392 , 0.13317192])"
            ]
          },
          "metadata": {
            "tags": []
          },
          "execution_count": 335
        }
      ]
    },
    {
      "cell_type": "code",
      "metadata": {
        "id": "ZGxal1rUUPwA",
        "colab_type": "code",
        "outputId": "b98d4d33-7b3d-4db3-db84-506c413e695b",
        "colab": {
          "base_uri": "https://localhost:8080/",
          "height": 297
        }
      },
      "source": [
        "feature_importances = pd.DataFrame(forest.feature_importances_,\n",
        "                                   index = X_train.columns,\n",
        "                                    columns=['importance']).sort_values('importance',                                                                 \n",
        "                                                                        ascending=False)\n",
        "feature_importances"
      ],
      "execution_count": 0,
      "outputs": [
        {
          "output_type": "execute_result",
          "data": {
            "text/html": [
              "<div>\n",
              "<style scoped>\n",
              "    .dataframe tbody tr th:only-of-type {\n",
              "        vertical-align: middle;\n",
              "    }\n",
              "\n",
              "    .dataframe tbody tr th {\n",
              "        vertical-align: top;\n",
              "    }\n",
              "\n",
              "    .dataframe thead th {\n",
              "        text-align: right;\n",
              "    }\n",
              "</style>\n",
              "<table border=\"1\" class=\"dataframe\">\n",
              "  <thead>\n",
              "    <tr style=\"text-align: right;\">\n",
              "      <th></th>\n",
              "      <th>importance</th>\n",
              "    </tr>\n",
              "  </thead>\n",
              "  <tbody>\n",
              "    <tr>\n",
              "      <th>TPWC</th>\n",
              "      <td>0.141439</td>\n",
              "    </tr>\n",
              "    <tr>\n",
              "      <th>SHRD</th>\n",
              "      <td>0.141252</td>\n",
              "    </tr>\n",
              "    <tr>\n",
              "      <th>SHRG</th>\n",
              "      <td>0.140207</td>\n",
              "    </tr>\n",
              "    <tr>\n",
              "      <th>PSLV</th>\n",
              "      <td>0.133172</td>\n",
              "    </tr>\n",
              "    <tr>\n",
              "      <th>NOHC</th>\n",
              "      <td>0.130230</td>\n",
              "    </tr>\n",
              "    <tr>\n",
              "      <th>MSLP</th>\n",
              "      <td>0.129768</td>\n",
              "    </tr>\n",
              "    <tr>\n",
              "      <th>TADV</th>\n",
              "      <td>0.093139</td>\n",
              "    </tr>\n",
              "    <tr>\n",
              "      <th>PER</th>\n",
              "      <td>0.090793</td>\n",
              "    </tr>\n",
              "  </tbody>\n",
              "</table>\n",
              "</div>"
            ],
            "text/plain": [
              "      importance\n",
              "TPWC    0.141439\n",
              "SHRD    0.141252\n",
              "SHRG    0.140207\n",
              "PSLV    0.133172\n",
              "NOHC    0.130230\n",
              "MSLP    0.129768\n",
              "TADV    0.093139\n",
              "PER     0.090793"
            ]
          },
          "metadata": {
            "tags": []
          },
          "execution_count": 336
        }
      ]
    },
    {
      "cell_type": "code",
      "metadata": {
        "id": "EUur7-nhczNa",
        "colab_type": "code",
        "colab": {}
      },
      "source": [
        "# Number of trees in random forest\n",
        "n_estimators = [int(x) for x in np.linspace(start = 200, stop = 2000, num = 10)]\n",
        "# Number of features to consider at every split\n",
        "max_features = ['auto', 'sqrt']\n",
        "# Maximum number of levels in tree\n",
        "max_depth = [int(x) for x in np.linspace(10, 110, num = 11)]\n",
        "max_depth.append(None)\n",
        "# Minimum number of samples required to split a node\n",
        "min_samples_split = [2, 5, 10]\n",
        "# Minimum number of samples required at each leaf node\n",
        "min_samples_leaf = [1, 2, 4]\n",
        "# Method of selecting samples for training each tree\n",
        "bootstrap = [True, False]\n",
        "\n",
        "random_grid = {'n_estimators': n_estimators,\n",
        "               'max_features': max_features,\n",
        "               'max_depth': max_depth,\n",
        "               'min_samples_split': min_samples_split,\n",
        "               'min_samples_leaf': min_samples_leaf,\n",
        "               'bootstrap': bootstrap,\n",
        "               'criterion':[\"gini\", \"entropy\"]}\n",
        "forest_cv = RandomizedSearchCV(forest, random_grid, cv=5)\n",
        "forest_cv.fit(X_train, y_train)\n",
        "print(\"Tuned Decision Tree Parameters: {}\".format(forest_cv.best_params_))\n",
        "print(\"Best score is {}\".format(forest_cv.best_score_))"
      ],
      "execution_count": 0,
      "outputs": []
    },
    {
      "cell_type": "code",
      "metadata": {
        "id": "993sb8W6q7ZD",
        "colab_type": "code",
        "outputId": "edef1779-641a-499a-d8fb-16d56f6130c0",
        "colab": {
          "base_uri": "https://localhost:8080/",
          "height": 158
        }
      },
      "source": [
        "knn_ri = KNeighborsClassifier()\n",
        "knn_ri.fit(X_train, y_train)\n",
        "y_pred13 = knn_ri.predict(X_test)\n",
        "print(\"Accuracy: {}\".format(knn_ri.score(X_test, y_test)))\n",
        "cm9 = confusion_matrix(y_test, y_pred13)\n",
        "cm9"
      ],
      "execution_count": 0,
      "outputs": [
        {
          "output_type": "stream",
          "text": [
            "Accuracy: 0.9702918874000208\n"
          ],
          "name": "stdout"
        },
        {
          "output_type": "execute_result",
          "data": {
            "text/plain": [
              "array([[942,   0,   0, ...,   0,   0,   0],\n",
              "       [  0, 972,   0, ...,   0,   0,   0],\n",
              "       [  0,   0, 951, ...,   0,   0,   0],\n",
              "       ...,\n",
              "       [  0,   0,   0, ..., 915,   0,   0],\n",
              "       [  0,   0,   0, ...,   0, 955,   0],\n",
              "       [  0,   0,   0, ...,   0,   0, 975]])"
            ]
          },
          "metadata": {
            "tags": []
          },
          "execution_count": 70
        }
      ]
    },
    {
      "cell_type": "code",
      "metadata": {
        "id": "semI9RbgCf2e",
        "colab_type": "code",
        "outputId": "92f8fe61-5efd-4701-8756-7f245994341c",
        "colab": {
          "base_uri": "https://localhost:8080/",
          "height": 87
        }
      },
      "source": [
        "print(\"POD for KNN Model {}\".format(POD(cm9)))\n",
        "print(\"FAR for KNN Model {}\".format(FAR(cm9)))\n",
        "print(\"PSS for KNN Model {}\\n\".format(PSS(cm9)))"
      ],
      "execution_count": 0,
      "outputs": [
        {
          "output_type": "stream",
          "text": [
            "POD for KNN Model 1.0\n",
            "FAR for KNN Model 0.0\n",
            "PSS for KNN Model 1.0\n",
            "\n"
          ],
          "name": "stdout"
        }
      ]
    },
    {
      "cell_type": "markdown",
      "metadata": {
        "id": "9aXczTIfrOdo",
        "colab_type": "text"
      },
      "source": [
        "# **Dependent Variable: dvmax**"
      ]
    },
    {
      "cell_type": "code",
      "metadata": {
        "id": "5WNxFQn-9MsS",
        "colab_type": "code",
        "outputId": "7a990f30-af51-4483-ebd2-8bdbfc60f1c6",
        "colab": {
          "base_uri": "https://localhost:8080/",
          "height": 195
        }
      },
      "source": [
        "shipdf.head()"
      ],
      "execution_count": 0,
      "outputs": [
        {
          "output_type": "execute_result",
          "data": {
            "text/html": [
              "<div>\n",
              "<style scoped>\n",
              "    .dataframe tbody tr th:only-of-type {\n",
              "        vertical-align: middle;\n",
              "    }\n",
              "\n",
              "    .dataframe tbody tr th {\n",
              "        vertical-align: top;\n",
              "    }\n",
              "\n",
              "    .dataframe thead th {\n",
              "        text-align: right;\n",
              "    }\n",
              "</style>\n",
              "<table border=\"1\" class=\"dataframe\">\n",
              "  <thead>\n",
              "    <tr style=\"text-align: right;\">\n",
              "      <th></th>\n",
              "      <th>key_0</th>\n",
              "      <th>id_x</th>\n",
              "      <th>clat_x</th>\n",
              "      <th>clon_x</th>\n",
              "      <th>RHOUR</th>\n",
              "      <th>vmax</th>\n",
              "      <th>prcp</th>\n",
              "      <th>dvmax_y</th>\n",
              "      <th>MSLP</th>\n",
              "      <th>PER</th>\n",
              "      <th>SHRD</th>\n",
              "      <th>NOHC</th>\n",
              "      <th>SHRG</th>\n",
              "      <th>TPWC</th>\n",
              "      <th>TADV</th>\n",
              "      <th>PSLV</th>\n",
              "      <th>RI</th>\n",
              "    </tr>\n",
              "  </thead>\n",
              "  <tbody>\n",
              "    <tr>\n",
              "      <th>0</th>\n",
              "      <td>1998-07-28 00:00:00</td>\n",
              "      <td>b'bal011998'</td>\n",
              "      <td>11.30</td>\n",
              "      <td>-25.400000</td>\n",
              "      <td>-12.0</td>\n",
              "      <td>25.0</td>\n",
              "      <td>0.338266</td>\n",
              "      <td>10.0</td>\n",
              "      <td>1009.0</td>\n",
              "      <td>0.0</td>\n",
              "      <td>8.6</td>\n",
              "      <td>21.0</td>\n",
              "      <td>20.5</td>\n",
              "      <td>56.9</td>\n",
              "      <td>-6.0</td>\n",
              "      <td>494.0</td>\n",
              "      <td>0</td>\n",
              "    </tr>\n",
              "    <tr>\n",
              "      <th>1</th>\n",
              "      <td>1998-07-28 00:00:00</td>\n",
              "      <td>b'bal011998'</td>\n",
              "      <td>11.50</td>\n",
              "      <td>-26.299999</td>\n",
              "      <td>-9.0</td>\n",
              "      <td>25.0</td>\n",
              "      <td>0.411434</td>\n",
              "      <td>10.0</td>\n",
              "      <td>1009.0</td>\n",
              "      <td>0.0</td>\n",
              "      <td>8.6</td>\n",
              "      <td>21.0</td>\n",
              "      <td>20.5</td>\n",
              "      <td>56.9</td>\n",
              "      <td>-6.0</td>\n",
              "      <td>494.0</td>\n",
              "      <td>0</td>\n",
              "    </tr>\n",
              "    <tr>\n",
              "      <th>2</th>\n",
              "      <td>1998-07-28 00:00:00</td>\n",
              "      <td>b'bal011998'</td>\n",
              "      <td>11.70</td>\n",
              "      <td>-27.200001</td>\n",
              "      <td>-6.0</td>\n",
              "      <td>25.0</td>\n",
              "      <td>0.353618</td>\n",
              "      <td>10.0</td>\n",
              "      <td>1009.0</td>\n",
              "      <td>0.0</td>\n",
              "      <td>8.6</td>\n",
              "      <td>21.0</td>\n",
              "      <td>20.5</td>\n",
              "      <td>56.9</td>\n",
              "      <td>-6.0</td>\n",
              "      <td>494.0</td>\n",
              "      <td>0</td>\n",
              "    </tr>\n",
              "    <tr>\n",
              "      <th>3</th>\n",
              "      <td>1998-07-28 00:00:00</td>\n",
              "      <td>b'bal011998'</td>\n",
              "      <td>11.95</td>\n",
              "      <td>-28.200001</td>\n",
              "      <td>-3.0</td>\n",
              "      <td>25.0</td>\n",
              "      <td>0.351601</td>\n",
              "      <td>10.0</td>\n",
              "      <td>1009.0</td>\n",
              "      <td>0.0</td>\n",
              "      <td>8.6</td>\n",
              "      <td>21.0</td>\n",
              "      <td>20.5</td>\n",
              "      <td>56.9</td>\n",
              "      <td>-6.0</td>\n",
              "      <td>494.0</td>\n",
              "      <td>0</td>\n",
              "    </tr>\n",
              "    <tr>\n",
              "      <th>4</th>\n",
              "      <td>1998-07-28 00:00:00</td>\n",
              "      <td>b'bal011998'</td>\n",
              "      <td>12.20</td>\n",
              "      <td>-29.200001</td>\n",
              "      <td>0.0</td>\n",
              "      <td>25.0</td>\n",
              "      <td>0.395761</td>\n",
              "      <td>10.0</td>\n",
              "      <td>1009.0</td>\n",
              "      <td>0.0</td>\n",
              "      <td>8.6</td>\n",
              "      <td>21.0</td>\n",
              "      <td>20.5</td>\n",
              "      <td>56.9</td>\n",
              "      <td>-6.0</td>\n",
              "      <td>494.0</td>\n",
              "      <td>0</td>\n",
              "    </tr>\n",
              "  </tbody>\n",
              "</table>\n",
              "</div>"
            ],
            "text/plain": [
              "                 key_0          id_x  clat_x     clon_x  ...  TPWC  TADV   PSLV  RI\n",
              "0  1998-07-28 00:00:00  b'bal011998'   11.30 -25.400000  ...  56.9  -6.0  494.0   0\n",
              "1  1998-07-28 00:00:00  b'bal011998'   11.50 -26.299999  ...  56.9  -6.0  494.0   0\n",
              "2  1998-07-28 00:00:00  b'bal011998'   11.70 -27.200001  ...  56.9  -6.0  494.0   0\n",
              "3  1998-07-28 00:00:00  b'bal011998'   11.95 -28.200001  ...  56.9  -6.0  494.0   0\n",
              "4  1998-07-28 00:00:00  b'bal011998'   12.20 -29.200001  ...  56.9  -6.0  494.0   0\n",
              "\n",
              "[5 rows x 17 columns]"
            ]
          },
          "metadata": {
            "tags": []
          },
          "execution_count": 27
        }
      ]
    },
    {
      "cell_type": "code",
      "metadata": {
        "id": "sLh618Z5r0pu",
        "colab_type": "code",
        "colab": {}
      },
      "source": [
        "y=shipdf['dvmax_y']\n",
        "X=shipdf.drop(['id_x','dvmax_y','RI','key_0'],axis=1)\n",
        "\n",
        "from imblearn.over_sampling import SMOTE\n",
        "\n",
        "ros = RandomOverSampler()\n",
        "X_ros, y_ros = ros.fit_sample(X, y)\n"
      ],
      "execution_count": 0,
      "outputs": []
    },
    {
      "cell_type": "code",
      "metadata": {
        "id": "3-0sFcruupRC",
        "colab_type": "code",
        "colab": {}
      },
      "source": [
        "def y_RI(y):\n",
        "  return [1 if x>=25 else 0 for x in y.tolist()]"
      ],
      "execution_count": 0,
      "outputs": []
    },
    {
      "cell_type": "code",
      "metadata": {
        "id": "wBjSuNs_r7PY",
        "colab_type": "code",
        "colab": {}
      },
      "source": [
        "X_train, X_test, y_train, y_test = train_test_split(X_ros, y_ros, test_size=0.3, random_state=3)\n",
        "y_test_RI = y_RI(y_test)"
      ],
      "execution_count": 0,
      "outputs": []
    },
    {
      "cell_type": "code",
      "metadata": {
        "id": "ln5ntJHfjgtk",
        "colab_type": "code",
        "colab": {}
      },
      "source": [
        "knn1 = KNeighborsRegressor(n_neighbors=7)\n",
        "knn1.fit(X_train, y_train)\n",
        "y_pred9 = knn1.predict(X_test)\n",
        "y_pred9_RI = y_RI(y_pred9)\n",
        "cm7 = confusion_matrix(y_test_RI, y_pred9_RI)\n",
        "cm7"
      ],
      "execution_count": 0,
      "outputs": []
    },
    {
      "cell_type": "code",
      "metadata": {
        "id": "LrYUAnzdsJEd",
        "colab_type": "code",
        "outputId": "61ca4cdc-da9b-4154-9964-e42c89813081",
        "colab": {
          "base_uri": "https://localhost:8080/",
          "height": 85
        }
      },
      "source": [
        "print(\"POD for 1st KNN Model {}\".format(POD(cm7)))\n",
        "print(\"FAR for 1st KNN Model {}\".format(FAR(cm7)))\n",
        "print(\"PSS for 1st KNN Model {}\\n\".format(PSS(cm7)))"
      ],
      "execution_count": 0,
      "outputs": [
        {
          "output_type": "stream",
          "text": [
            "POD for 1st KNN Model 0.8925281473899693\n",
            "FAR for 1st KNN Model 0.01245753114382786\n",
            "PSS for 1st KNN Model 0.3687186235804455\n",
            "\n"
          ],
          "name": "stdout"
        }
      ]
    },
    {
      "cell_type": "code",
      "metadata": {
        "id": "OdXJRIZ0sRjC",
        "colab_type": "code",
        "colab": {}
      },
      "source": [
        "params = {'n_neighbors': randint(1,8),\n",
        "          'weights': ['uniform','distance'],\n",
        "          'algorithm': ['auto', 'brute']}\n",
        "knn1_cv = RandomizedSearchCV(knn1, params, cv=5)\n",
        "knn1_cv.fit(X_train, y_train)\n"
      ],
      "execution_count": 0,
      "outputs": []
    },
    {
      "cell_type": "code",
      "metadata": {
        "id": "I9nGm7HM7_DI",
        "colab_type": "code",
        "outputId": "c393b17e-0132-403a-e0d1-bfc2971a3e3e",
        "colab": {
          "base_uri": "https://localhost:8080/",
          "height": 70
        }
      },
      "source": [
        "reg = LinearRegression()\n",
        "reg.fit(X_train, y_train)\n",
        "y_pred10 = reg.predict(X_test)\n",
        "print(\"Accuracy: {}\".format(reg.score(X_test, y_test)))\n",
        "cm8 = confusion_matrix(y_RI(y_test), y_RI(y_pred10))\n",
        "cm8"
      ],
      "execution_count": 0,
      "outputs": [
        {
          "output_type": "stream",
          "text": [
            "Accuracy: 0.6875551249265722\n"
          ],
          "name": "stdout"
        },
        {
          "output_type": "execute_result",
          "data": {
            "text/plain": [
              "array([[21793,  3205],\n",
              "       [ 2805, 10705]])"
            ]
          },
          "metadata": {
            "tags": []
          },
          "execution_count": 62
        }
      ]
    },
    {
      "cell_type": "code",
      "metadata": {
        "id": "MZG8b3I2OfV4",
        "colab_type": "code",
        "outputId": "b3445d3e-1df8-4673-f546-a81a8357e843",
        "colab": {
          "base_uri": "https://localhost:8080/",
          "height": 105
        }
      },
      "source": [
        "print('intercept:', reg.intercept_)\n",
        "print('slope:', reg.coef_)"
      ],
      "execution_count": 0,
      "outputs": [
        {
          "output_type": "stream",
          "text": [
            "intercept: -1101.8073980557308\n",
            "slope: [-2.47386122e-01  1.41069363e-01  2.18568308e-02 -2.93433165e-01\n",
            "  2.93211165e+01  1.24735450e+00 -8.35547601e-02 -1.27627367e+00\n",
            "  1.90542872e-01 -3.28308294e-01  4.82554269e-01 -3.19006874e-01\n",
            " -1.76452609e-01]\n"
          ],
          "name": "stdout"
        }
      ]
    },
    {
      "cell_type": "code",
      "metadata": {
        "id": "6oi-aBmN9urq",
        "colab_type": "code",
        "outputId": "f850d870-c961-4a79-8320-7bc016c68f57",
        "colab": {
          "base_uri": "https://localhost:8080/",
          "height": 70
        }
      },
      "source": [
        "ridge1 = Ridge(normalize=True)\n",
        "ridge1.fit(X_train, y_train)\n",
        "y_pred11 = ridge1.predict(X_test)\n",
        "print(\"Accuracy: {}\".format(reg.score(X_test, y_test)))\n",
        "confusion_matrix(y_RI(y_test), y_RI(y_pred11))"
      ],
      "execution_count": 0,
      "outputs": [
        {
          "output_type": "stream",
          "text": [
            "Accuracy: 0.6875551249265722\n"
          ],
          "name": "stdout"
        },
        {
          "output_type": "execute_result",
          "data": {
            "text/plain": [
              "array([[23510,  1488],\n",
              "       [ 6863,  6647]])"
            ]
          },
          "metadata": {
            "tags": []
          },
          "execution_count": 63
        }
      ]
    },
    {
      "cell_type": "code",
      "metadata": {
        "id": "tqw8u4K0AVjq",
        "colab_type": "code",
        "outputId": "5c1da787-ad48-4474-ad50-ca9522643761",
        "colab": {
          "base_uri": "https://localhost:8080/",
          "height": 70
        }
      },
      "source": [
        "lasso1 = Lasso()\n",
        "lasso1.fit(X_train, y_train)\n",
        "y_pred12 = lasso1.predict(X_test)\n",
        "print(\"Accuracy: {}\".format(reg.score(X_test, y_test)))\n",
        "confusion_matrix(y_RI(y_test), y_RI(y_pred12))"
      ],
      "execution_count": 0,
      "outputs": [
        {
          "output_type": "stream",
          "text": [
            "Accuracy: 0.6875551249265722\n"
          ],
          "name": "stdout"
        },
        {
          "output_type": "execute_result",
          "data": {
            "text/plain": [
              "array([[21700,  3298],\n",
              "       [ 2906, 10604]])"
            ]
          },
          "metadata": {
            "tags": []
          },
          "execution_count": 64
        }
      ]
    },
    {
      "cell_type": "code",
      "metadata": {
        "id": "pRy7rIZKA75b",
        "colab_type": "code",
        "outputId": "d9d55b8d-455a-4abc-f2aa-b542632a528c",
        "colab": {
          "base_uri": "https://localhost:8080/",
          "height": 70
        }
      },
      "source": [
        "elasticnet = ElasticNet()\n",
        "elasticnet.fit(X_train, y_train)\n",
        "y_pred14 = elasticnet.predict(X_test)\n",
        "print(\"Accuracy: {}\".format(elasticnet.score(X_test, y_test)))\n",
        "cm10 = confusion_matrix(y_RI(y_test), y_RI(y_pred14))\n",
        "cm10"
      ],
      "execution_count": 0,
      "outputs": [
        {
          "output_type": "stream",
          "text": [
            "Accuracy: 0.6802071239543102\n"
          ],
          "name": "stdout"
        },
        {
          "output_type": "execute_result",
          "data": {
            "text/plain": [
              "array([[21697,  3301],\n",
              "       [ 2904, 10606]])"
            ]
          },
          "metadata": {
            "tags": []
          },
          "execution_count": 65
        }
      ]
    }
  ]
}